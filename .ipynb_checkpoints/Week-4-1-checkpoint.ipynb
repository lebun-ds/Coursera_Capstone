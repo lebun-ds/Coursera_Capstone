{
 "cells": [
  {
   "cell_type": "markdown",
   "metadata": {},
   "source": [
    "### IBM Data Science - Applied Data Science Capstone Project\n",
    "#### 3 April 2021\n",
    "#### Lim Yi Xiang"
   ]
  },
  {
   "cell_type": "markdown",
   "metadata": {},
   "source": [
    "# Selecting the best location to open a restaurant in Manhattan"
   ]
  },
  {
   "cell_type": "markdown",
   "metadata": {},
   "source": [
    "## Introduction/Business Problem\n",
    "#### Manhattan is a busy place and is famous for a wide range of cuisine available. This si probably due to a diverse background of immirgrant moving into the place\n",
    "#### In such a location, operating a F&B business could be profitable if done right"
   ]
  },
  {
   "cell_type": "markdown",
   "metadata": {},
   "source": [
    "I have a client who is passionate about food and sharing it with the people. He grew up in the suburb of Manhattan and wanted to start a business in the region. Hence, my focus will be on the borough. We define a potential type of restaurant based on high frequency of the category (based on the fact that many are opened due to profitability and customer demand) or low frequency of the category (assuming that there will be less competition)."
   ]
  },
  {
   "cell_type": "markdown",
   "metadata": {},
   "source": [
    "## Data"
   ]
  },
  {
   "cell_type": "markdown",
   "metadata": {},
   "source": [
    "To identify the characteristics of our competitors' venues in Manhattan, we would first need to find out the number of restaurants in Manhattan currently and their location.\n",
    "We then used Google Map API to find their geographic coordinates based on their postal code addresses.\n",
    "In Manhattan, the most common restaurant is sushi bar and there are 1763 sushi bars currently operating. \n",
    "\n",
    "However, that's not the end as it may not be the wisest to compete with established sushi bars"
   ]
  }
 ],
 "metadata": {
  "kernelspec": {
   "display_name": "Python 3",
   "language": "python",
   "name": "python3"
  },
  "language_info": {
   "codemirror_mode": {
    "name": "ipython",
    "version": 3
   },
   "file_extension": ".py",
   "mimetype": "text/x-python",
   "name": "python",
   "nbconvert_exporter": "python",
   "pygments_lexer": "ipython3",
   "version": "3.7.1"
  }
 },
 "nbformat": 4,
 "nbformat_minor": 5
}
