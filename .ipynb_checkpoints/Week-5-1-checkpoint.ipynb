{
 "cells": [
  {
   "cell_type": "markdown",
   "metadata": {
    "ExecuteTime": {
     "end_time": "2021-04-02T00:28:08.155060Z",
     "start_time": "2021-04-02T00:28:08.136070Z"
    },
    "slideshow": {
     "slide_type": "slide"
    }
   },
   "source": [
    "### IBM Data Science - Applied Data Science Capstone Project\n",
    "#### 3 April 2021\n",
    "#### Lim Yi Xiang"
   ]
  },
  {
   "cell_type": "markdown",
   "metadata": {},
   "source": [
    "# Selecting the best location to open a restaurant in Manhattan"
   ]
  },
  {
   "cell_type": "markdown",
   "metadata": {
    "slideshow": {
     "slide_type": "slide"
    }
   },
   "source": [
    "## Introduction/Business Problem\n",
    "#### Manhattan is a busy place and is famous for a wide range of cuisine available. This si probably due to a diverse background of immirgrant moving into the place\n",
    "#### In such a location, operating a F&B business could be profitable if done right"
   ]
  },
  {
   "cell_type": "markdown",
   "metadata": {
    "ExecuteTime": {
     "end_time": "2021-04-02T03:34:59.981057Z",
     "start_time": "2021-04-02T03:34:59.964048Z"
    },
    "slideshow": {
     "slide_type": "subslide"
    }
   },
   "source": [
    "I have a client who is passionate about food and sharing it with the people. He grew up in the suburb of Manhattan and wanted to start a business in the region. Hence, my focus will be on the borough. We define a potential type of restaurant based on high frequency of the category (based on the fact that many are opened due to profitability and customer demand) or low frequency of the category (assuming that there will be less competition)."
   ]
  },
  {
   "cell_type": "markdown",
   "metadata": {
    "slideshow": {
     "slide_type": "subslide"
    }
   },
   "source": [
    "## Business Problem\n",
    "The goal is to help stakeholders to make the following important decisions: \n",
    "\n",
    "**Find appropriate divisions of restaurants to reduce the pickup time and distance for each group of drivers** \n",
    "\n",
    "We will gather the information of the venues in populated areas. Then we will filter the restaurants and group them into several groups as driver pickup areas."
   ]
  },
  {
   "cell_type": "markdown",
   "metadata": {
    "slideshow": {
     "slide_type": "slide"
    }
   },
   "source": [
    "# Data"
   ]
  },
  {
   "cell_type": "markdown",
   "metadata": {
    "slideshow": {
     "slide_type": "skip"
    }
   },
   "source": [
    "To identify the characteristics of our competitors' venues in Manhattan, we would first need to find out the number of restaurants in Manhattan currently and their location. We then used Google Map API to find their geographic coordinates based on their postal code addresses. In Manhattan, the most common restaurant is sushi bar and there are 1763 sushi bars currently operating.\n",
    "\n",
    "However, that's not the end as it may not be the wisest to compete with established sushi bars"
   ]
  },
  {
   "cell_type": "markdown",
   "metadata": {
    "ExecuteTime": {
     "end_time": "2021-04-02T02:09:43.678153Z",
     "start_time": "2021-04-02T02:09:43.659145Z"
    },
    "slideshow": {
     "slide_type": "subslide"
    }
   },
   "source": [
    "## Manhattan Neighborhoods List"
   ]
  },
  {
   "cell_type": "markdown",
   "metadata": {
    "ExecuteTime": {
     "end_time": "2021-04-02T03:00:15.843783Z",
     "start_time": "2021-04-02T03:00:15.835787Z"
    },
    "slideshow": {
     "slide_type": "fragment"
    }
   },
   "source": [
    "We have downloaded a neighborhood data in the form json\n",
    "\n",
    "This json file has information about all the neighborhoods, we will limit the data type to \n",
    "\n",
    "1. Borough : Name of Borough\n",
    "2. Neighborhood : Name of Neighborhood\n",
    "3. Latitude\n",
    "4. Longitude"
   ]
  },
  {
   "cell_type": "markdown",
   "metadata": {
    "ExecuteTime": {
     "end_time": "2021-04-02T02:58:14.501994Z",
     "start_time": "2021-04-02T02:58:14.486999Z"
    },
    "slideshow": {
     "slide_type": "subslide"
    }
   },
   "source": [
    "## Geographic Information "
   ]
  },
  {
   "cell_type": "markdown",
   "metadata": {
    "slideshow": {
     "slide_type": "fragment"
    }
   },
   "source": [
    "ArcGIS API provides information to connect people, locations, and data using interactive maps. Work with smart, data-driven styles and intuitive analysis tools that deliver location intelligence. \n",
    "\n",
    "We use ArcGIS to get the geo locations of the neighborhoods of Manhattan. We need to acquire the following information:\n",
    "\n",
    "1. Latitude : Latitude for Neighborhood\n",
    "2. Longitude : Longitude for Neighborhood"
   ]
  },
  {
   "cell_type": "markdown",
   "metadata": {
    "slideshow": {
     "slide_type": "subslide"
    }
   },
   "source": [
    "## Neighborhood Venues"
   ]
  },
  {
   "cell_type": "markdown",
   "metadata": {
    "slideshow": {
     "slide_type": "subslide"
    }
   },
   "source": [
    "We will need data about venues in different neighborhoods of some chosen boroughs. In order to gather that information we will use **Foursquare API**.   \n",
    "\n",
    "Foursquare is a location data provider with information about all manner of venues and events within an area of interest. Such information includes venue names, locations, menus, ratings, and etc. It will provide all the venue information we need in this analysis.\n",
    "\n",
    "After finding the list of neighborhoods, we then connect to the Foursquare API to gather information about venues inside each neighborhood. We set the radius, which is the specified distance to the longitude and latitude of the neighborhood, to be 500 meters.\n",
    "\n",
    "We need to acquire the following information of venues:\n",
    "\n",
    "1. Neighborhood  : Name of Neighborhood\n",
    "2. Venue : Name of the Venue\n",
    "3. VLatitude : Latitude of Venue\n",
    "4. VLongitude : Longitude of Venue\n",
    "5. VCategory : Category of Venue"
   ]
  },
  {
   "cell_type": "markdown",
   "metadata": {
    "slideshow": {
     "slide_type": "subslide"
    }
   },
   "source": [
    "## Final Dataframe"
   ]
  },
  {
   "cell_type": "markdown",
   "metadata": {
    "slideshow": {
     "slide_type": "fragment"
    }
   },
   "source": [
    "We use all the data of neighborhoods and venues to generate the following dataframe:\n",
    "1. Borough : Name of Borough\n",
    "2. Neighborhood : Name of Neighborhood\n",
    "3. Latitude : Latitude for Neighborhood\n",
    "4. Longitude : Longitude for Neighborhood\n",
    "5. Venue : Name of the Venue\n",
    "6. VLatitude : Latitude of Venue\n",
    "7. VLongitude : Longitude of Venue\n",
    "8. VCategory : Category of Venue\n",
    "\n",
    "\n",
    "We now have all the information to do the analysis. "
   ]
  },
  {
   "cell_type": "markdown",
   "metadata": {
    "ExecuteTime": {
     "end_time": "2021-04-02T00:58:43.089118Z",
     "start_time": "2021-04-02T00:58:43.078122Z"
    }
   },
   "source": [
    "# Methodology"
   ]
  },
  {
   "cell_type": "markdown",
   "metadata": {},
   "source": [
    "## Acquire Neighborhoods List\n"
   ]
  },
  {
   "cell_type": "markdown",
   "metadata": {},
   "source": [
    "### Download all the dependencies.\n"
   ]
  },
  {
   "cell_type": "code",
   "execution_count": 1,
   "metadata": {
    "ExecuteTime": {
     "end_time": "2021-04-02T23:31:30.711016Z",
     "start_time": "2021-04-02T23:31:30.030332Z"
    }
   },
   "outputs": [],
   "source": [
    "import numpy as np\n",
    "import pandas as pd\n",
    "pd.set_option('display.max_columns', None)\n",
    "pd.set_option('display.max_rows', None)\n",
    "\n",
    "#!conda install -c conda-forge geopy --yes\n",
    "from geopy.geocoders import Nominatim\n",
    "import urllib.request\n",
    "import json\n",
    "from bs4 import BeautifulSoup\n",
    "from urllib.request import urlopen\n",
    "import requests\n",
    "\n",
    "from pandas.io.json import json_normalize\n",
    "from arcgis.geocoding import geocode\n",
    "from arcgis.gis import GIS\n",
    "from sklearn.preprocessing import StandardScaler\n",
    "\n",
    "import matplotlib.cm as cm\n",
    "import matplotlib.colors as colors\n",
    "# Matplotlib and associated plotting modules\n",
    "import matplotlib.cm as cm\n",
    "import matplotlib.pyplot as plt\n",
    "import matplotlib.colors as colors\n",
    "%matplotlib inline\n",
    "from sklearn.cluster import KMeans\n",
    "\n",
    "#!conda install -c conda-forge folium=0.5.0 --yes\n",
    "import folium\n"
   ]
  },
  {
   "cell_type": "markdown",
   "metadata": {},
   "source": [
    "### Create the dataframe\n"
   ]
  },
  {
   "cell_type": "markdown",
   "metadata": {},
   "source": [
    "**Get the neighborhoods info for Manhattan**\n"
   ]
  },
  {
   "cell_type": "code",
   "execution_count": 2,
   "metadata": {
    "ExecuteTime": {
     "end_time": "2021-04-02T04:11:15.321974Z",
     "start_time": "2021-04-02T04:11:15.300986Z"
    },
    "scrolled": true
   },
   "outputs": [],
   "source": [
    "with open('nyu_2451_34572-geojson.json') as json_data:\n",
    "    newyork_data = json.load(json_data)\n",
    "    \n",
    "neighborhoods_data = newyork_data['features']\n",
    "# define the dataframe columns\n",
    "column_names = ['Borough', 'Neighborhood', 'Latitude', 'Longitude'] \n",
    "\n",
    "# instantiate the dataframe\n",
    "neighborhoods = pd.DataFrame(columns=column_names)\n",
    "\n",
    "for data in neighborhoods_data:\n",
    "    borough = neighborhood_name = data['properties']['borough'] \n",
    "    neighborhood_name = data['properties']['name']\n",
    "        \n",
    "    neighborhood_latlon = data['geometry']['coordinates']\n",
    "    neighborhood_lat = neighborhood_latlon[1]\n",
    "    neighborhood_lon = neighborhood_latlon[0]\n",
    "    \n",
    "    neighborhoods = neighborhoods.append({'Borough': borough,\n",
    "                                          'Neighborhood': neighborhood_name,\n",
    "                                          'Latitude': neighborhood_lat,\n",
    "                                          'Longitude': neighborhood_lon}, ignore_index=True)"
   ]
  },
  {
   "cell_type": "code",
   "execution_count": 3,
   "metadata": {},
   "outputs": [
    {
     "data": {
      "text/html": [
       "<div>\n",
       "<style scoped>\n",
       "    .dataframe tbody tr th:only-of-type {\n",
       "        vertical-align: middle;\n",
       "    }\n",
       "\n",
       "    .dataframe tbody tr th {\n",
       "        vertical-align: top;\n",
       "    }\n",
       "\n",
       "    .dataframe thead th {\n",
       "        text-align: right;\n",
       "    }\n",
       "</style>\n",
       "<table border=\"1\" class=\"dataframe\">\n",
       "  <thead>\n",
       "    <tr style=\"text-align: right;\">\n",
       "      <th></th>\n",
       "      <th>Borough</th>\n",
       "      <th>Neighborhood</th>\n",
       "      <th>Latitude</th>\n",
       "      <th>Longitude</th>\n",
       "    </tr>\n",
       "  </thead>\n",
       "  <tbody>\n",
       "    <tr>\n",
       "      <th>0</th>\n",
       "      <td>Bronx</td>\n",
       "      <td>Wakefield</td>\n",
       "      <td>40.894705</td>\n",
       "      <td>-73.847201</td>\n",
       "    </tr>\n",
       "    <tr>\n",
       "      <th>1</th>\n",
       "      <td>Bronx</td>\n",
       "      <td>Co-op City</td>\n",
       "      <td>40.874294</td>\n",
       "      <td>-73.829939</td>\n",
       "    </tr>\n",
       "    <tr>\n",
       "      <th>2</th>\n",
       "      <td>Bronx</td>\n",
       "      <td>Eastchester</td>\n",
       "      <td>40.887556</td>\n",
       "      <td>-73.827806</td>\n",
       "    </tr>\n",
       "    <tr>\n",
       "      <th>3</th>\n",
       "      <td>Bronx</td>\n",
       "      <td>Fieldston</td>\n",
       "      <td>40.895437</td>\n",
       "      <td>-73.905643</td>\n",
       "    </tr>\n",
       "    <tr>\n",
       "      <th>4</th>\n",
       "      <td>Bronx</td>\n",
       "      <td>Riverdale</td>\n",
       "      <td>40.890834</td>\n",
       "      <td>-73.912585</td>\n",
       "    </tr>\n",
       "  </tbody>\n",
       "</table>\n",
       "</div>"
      ],
      "text/plain": [
       "  Borough Neighborhood   Latitude  Longitude\n",
       "0   Bronx    Wakefield  40.894705 -73.847201\n",
       "1   Bronx   Co-op City  40.874294 -73.829939\n",
       "2   Bronx  Eastchester  40.887556 -73.827806\n",
       "3   Bronx    Fieldston  40.895437 -73.905643\n",
       "4   Bronx    Riverdale  40.890834 -73.912585"
      ]
     },
     "execution_count": 3,
     "metadata": {},
     "output_type": "execute_result"
    }
   ],
   "source": [
    "neighborhoods.head()"
   ]
  },
  {
   "cell_type": "markdown",
   "metadata": {},
   "source": [
    "**Data cleaning**  \n",
    "We only need the Borough, Post town and Postcode district"
   ]
  },
  {
   "cell_type": "code",
   "execution_count": 4,
   "metadata": {},
   "outputs": [
    {
     "data": {
      "text/html": [
       "<div>\n",
       "<style scoped>\n",
       "    .dataframe tbody tr th:only-of-type {\n",
       "        vertical-align: middle;\n",
       "    }\n",
       "\n",
       "    .dataframe tbody tr th {\n",
       "        vertical-align: top;\n",
       "    }\n",
       "\n",
       "    .dataframe thead th {\n",
       "        text-align: right;\n",
       "    }\n",
       "</style>\n",
       "<table border=\"1\" class=\"dataframe\">\n",
       "  <thead>\n",
       "    <tr style=\"text-align: right;\">\n",
       "      <th></th>\n",
       "      <th>Borough</th>\n",
       "      <th>Neighborhood</th>\n",
       "      <th>Latitude</th>\n",
       "      <th>Longitude</th>\n",
       "    </tr>\n",
       "  </thead>\n",
       "  <tbody>\n",
       "    <tr>\n",
       "      <th>0</th>\n",
       "      <td>Bronx</td>\n",
       "      <td>Wakefield</td>\n",
       "      <td>40.894705</td>\n",
       "      <td>-73.847201</td>\n",
       "    </tr>\n",
       "    <tr>\n",
       "      <th>1</th>\n",
       "      <td>Bronx</td>\n",
       "      <td>Co-op City</td>\n",
       "      <td>40.874294</td>\n",
       "      <td>-73.829939</td>\n",
       "    </tr>\n",
       "    <tr>\n",
       "      <th>2</th>\n",
       "      <td>Bronx</td>\n",
       "      <td>Eastchester</td>\n",
       "      <td>40.887556</td>\n",
       "      <td>-73.827806</td>\n",
       "    </tr>\n",
       "    <tr>\n",
       "      <th>3</th>\n",
       "      <td>Bronx</td>\n",
       "      <td>Fieldston</td>\n",
       "      <td>40.895437</td>\n",
       "      <td>-73.905643</td>\n",
       "    </tr>\n",
       "    <tr>\n",
       "      <th>4</th>\n",
       "      <td>Bronx</td>\n",
       "      <td>Riverdale</td>\n",
       "      <td>40.890834</td>\n",
       "      <td>-73.912585</td>\n",
       "    </tr>\n",
       "  </tbody>\n",
       "</table>\n",
       "</div>"
      ],
      "text/plain": [
       "  Borough Neighborhood   Latitude  Longitude\n",
       "0   Bronx    Wakefield  40.894705 -73.847201\n",
       "1   Bronx   Co-op City  40.874294 -73.829939\n",
       "2   Bronx  Eastchester  40.887556 -73.827806\n",
       "3   Bronx    Fieldston  40.895437 -73.905643\n",
       "4   Bronx    Riverdale  40.890834 -73.912585"
      ]
     },
     "execution_count": 4,
     "metadata": {},
     "output_type": "execute_result"
    }
   ],
   "source": [
    "neighborhoods.columns = ['Borough', 'Neighborhood', 'Latitude', 'Longitude']\n",
    "neighborhoods.head()"
   ]
  },
  {
   "cell_type": "markdown",
   "metadata": {},
   "source": [
    "Strip the [] and number in Borough columns"
   ]
  },
  {
   "cell_type": "code",
   "execution_count": 5,
   "metadata": {},
   "outputs": [
    {
     "data": {
      "text/html": [
       "<div>\n",
       "<style scoped>\n",
       "    .dataframe tbody tr th:only-of-type {\n",
       "        vertical-align: middle;\n",
       "    }\n",
       "\n",
       "    .dataframe tbody tr th {\n",
       "        vertical-align: top;\n",
       "    }\n",
       "\n",
       "    .dataframe thead th {\n",
       "        text-align: right;\n",
       "    }\n",
       "</style>\n",
       "<table border=\"1\" class=\"dataframe\">\n",
       "  <thead>\n",
       "    <tr style=\"text-align: right;\">\n",
       "      <th></th>\n",
       "      <th>Borough</th>\n",
       "      <th>Neighborhood</th>\n",
       "      <th>Latitude</th>\n",
       "      <th>Longitude</th>\n",
       "    </tr>\n",
       "  </thead>\n",
       "  <tbody>\n",
       "    <tr>\n",
       "      <th>0</th>\n",
       "      <td>Bronx</td>\n",
       "      <td>Wakefield</td>\n",
       "      <td>40.894705</td>\n",
       "      <td>-73.847201</td>\n",
       "    </tr>\n",
       "    <tr>\n",
       "      <th>1</th>\n",
       "      <td>Bronx</td>\n",
       "      <td>Co-op City</td>\n",
       "      <td>40.874294</td>\n",
       "      <td>-73.829939</td>\n",
       "    </tr>\n",
       "    <tr>\n",
       "      <th>2</th>\n",
       "      <td>Bronx</td>\n",
       "      <td>Eastchester</td>\n",
       "      <td>40.887556</td>\n",
       "      <td>-73.827806</td>\n",
       "    </tr>\n",
       "    <tr>\n",
       "      <th>3</th>\n",
       "      <td>Bronx</td>\n",
       "      <td>Fieldston</td>\n",
       "      <td>40.895437</td>\n",
       "      <td>-73.905643</td>\n",
       "    </tr>\n",
       "    <tr>\n",
       "      <th>4</th>\n",
       "      <td>Bronx</td>\n",
       "      <td>Riverdale</td>\n",
       "      <td>40.890834</td>\n",
       "      <td>-73.912585</td>\n",
       "    </tr>\n",
       "  </tbody>\n",
       "</table>\n",
       "</div>"
      ],
      "text/plain": [
       "  Borough Neighborhood   Latitude  Longitude\n",
       "0   Bronx    Wakefield  40.894705 -73.847201\n",
       "1   Bronx   Co-op City  40.874294 -73.829939\n",
       "2   Bronx  Eastchester  40.887556 -73.827806\n",
       "3   Bronx    Fieldston  40.895437 -73.905643\n",
       "4   Bronx    Riverdale  40.890834 -73.912585"
      ]
     },
     "execution_count": 5,
     "metadata": {},
     "output_type": "execute_result"
    }
   ],
   "source": [
    "neighborhoods['Borough'] = neighborhoods['Borough'].map(\n",
    "    lambda x: x.rstrip(']').rstrip('0123456789').rstrip('['))\n",
    "neighborhoods.head()"
   ]
  },
  {
   "cell_type": "markdown",
   "metadata": {},
   "source": [
    "**Print the size of the table**"
   ]
  },
  {
   "cell_type": "code",
   "execution_count": 6,
   "metadata": {
    "ExecuteTime": {
     "end_time": "2021-04-01T02:51:09.459349Z",
     "start_time": "2021-04-01T02:51:09.441361Z"
    }
   },
   "outputs": [
    {
     "name": "stdout",
     "output_type": "stream",
     "text": [
      "The Manhattan table has : 306  rows and has : 4 columns\n"
     ]
    }
   ],
   "source": [
    "print(\"The Manhattan table has :\",\n",
    "      neighborhoods.shape[0], \" rows and has :\", neighborhoods.shape[1], \"columns\")"
   ]
  },
  {
   "cell_type": "markdown",
   "metadata": {},
   "source": [
    "## Analyze Manhattan Coordinates"
   ]
  },
  {
   "cell_type": "markdown",
   "metadata": {},
   "source": [
    "### **Create Neighborhood dataframe**\n"
   ]
  },
  {
   "cell_type": "code",
   "execution_count": 8,
   "metadata": {
    "ExecuteTime": {
     "end_time": "2021-04-01T02:51:15.668508Z",
     "start_time": "2021-04-01T02:51:13.092250Z"
    }
   },
   "outputs": [],
   "source": [
    "gis = GIS()\n",
    "# define a function to get all the postal codes geo\n",
    "\n",
    "def get_geo(add):\n",
    "    latcoords = 0\n",
    "    lngcoords = 0\n",
    "    g = geocode(address='{}, Manhattan, New York, USA'.format(add))[0]\n",
    "    lngcoords = g['location']['x']\n",
    "    latcoords = g['location']['y']\n",
    "    return [str(latcoords), str(lngcoords)]"
   ]
  },
  {
   "cell_type": "markdown",
   "metadata": {},
   "source": [
    "**Count the neighborhoods and Borough**\n"
   ]
  },
  {
   "cell_type": "code",
   "execution_count": 9,
   "metadata": {
    "ExecuteTime": {
     "end_time": "2021-04-01T02:51:24.346170Z",
     "start_time": "2021-04-01T02:51:24.329161Z"
    }
   },
   "outputs": [
    {
     "name": "stdout",
     "output_type": "stream",
     "text": [
      "The dataframe has 5 boroughs and 306 neighborhoods.\n"
     ]
    }
   ],
   "source": [
    "print('The dataframe has {} boroughs and {} neighborhoods.'.format(\n",
    "    len(neighborhoods['Borough'].unique()),\n",
    "    neighborhoods.shape[0]))"
   ]
  },
  {
   "cell_type": "markdown",
   "metadata": {},
   "source": [
    "### Get the latitude and longitude values of Manhattan \n"
   ]
  },
  {
   "cell_type": "code",
   "execution_count": 28,
   "metadata": {
    "ExecuteTime": {
     "end_time": "2021-04-01T02:51:29.773846Z",
     "start_time": "2021-04-01T02:51:28.541900Z"
    },
    "scrolled": true
   },
   "outputs": [],
   "source": [
    "latitude = 40.5831\n",
    "longitude = -73.9712"
   ]
  },
  {
   "cell_type": "markdown",
   "metadata": {},
   "source": [
    "### Create a map of Manhattan"
   ]
  },
  {
   "cell_type": "code",
   "execution_count": 72,
   "metadata": {
    "ExecuteTime": {
     "end_time": "2021-04-01T02:51:52.074486Z",
     "start_time": "2021-04-01T02:51:50.017201Z"
    },
    "scrolled": true
   },
   "outputs": [
    {
     "data": {
      "text/html": [
       "<div style=\"width:100%;\"><div style=\"position:relative;width:100%;height:0;padding-bottom:60%;\"><iframe src=\"data:text/html;charset=utf-8;base64,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\" style=\"position:absolute;width:100%;height:100%;left:0;top:0;border:none !important;\" allowfullscreen webkitallowfullscreen mozallowfullscreen></iframe></div></div>"
      ],
      "text/plain": [
       "<folium.folium.Map at 0x28598159a20>"
      ]
     },
     "execution_count": 72,
     "metadata": {},
     "output_type": "execute_result"
    }
   ],
   "source": [
    "# create map of Manhattan using latitude and longitude values\n",
    "map_manhattan = folium.Map(location=[latitude, longitude], zoom_start=9)\n",
    "\n",
    "# add markers to map\n",
    "for lat, lng, borough, neighborhood in zip(neighborhoods['Latitude'], neighborhoods['Longitude'], neighborhoods['Borough'], neighborhoods['Neighborhood']):\n",
    "    label = '{}, {}'.format(neighborhood, borough)\n",
    "    label = folium.Popup(label, parse_html=True)\n",
    "    folium.CircleMarker(\n",
    "        [lat, lng],\n",
    "        radius=5,\n",
    "        popup=label,\n",
    "        color='blue',\n",
    "        fill=True,\n",
    "        fill_color='#3186cc',\n",
    "        fill_opacity=0.7,\n",
    "        parse_html=False).add_to(map_manhattan)\n",
    "\n",
    "map_manhattan"
   ]
  },
  {
   "cell_type": "markdown",
   "metadata": {},
   "source": [
    "## Explore Neighborhoods in Manhattan\n"
   ]
  },
  {
   "cell_type": "markdown",
   "metadata": {},
   "source": [
    "### Define Foursquare Credentials and Version\n"
   ]
  },
  {
   "cell_type": "code",
   "execution_count": 37,
   "metadata": {
    "ExecuteTime": {
     "end_time": "2021-04-01T02:54:52.527817Z",
     "start_time": "2021-04-01T02:54:52.521823Z"
    }
   },
   "outputs": [
    {
     "name": "stdout",
     "output_type": "stream",
     "text": [
      "Your credentails:\n",
      "CLIENT_ID: 54QXS15IVS1A4TLKL4YH23OQ3U0MOUJZL4PMOKRHEB52Q4NP\n",
      "CLIENT_SECRET:0UU02LTONIX0VIYQVXVCNOCE5H0CWAW4CEFXTJMUZCF5YCJT\n"
     ]
    }
   ],
   "source": [
    "CLIENT_ID = '54QXS15IVS1A4TLKL4YH23OQ3U0MOUJZL4PMOKRHEB52Q4NP'\n",
    "CLIENT_SECRET = '0UU02LTONIX0VIYQVXVCNOCE5H0CWAW4CEFXTJMUZCF5YCJT'\n",
    "VERSION = '20180605'\n",
    "LIMIT = 3000\n",
    "\n",
    "print('Your credentails:')\n",
    "print('CLIENT_ID: ' + CLIENT_ID)\n",
    "print('CLIENT_SECRET:' + CLIENT_SECRET)"
   ]
  },
  {
   "cell_type": "markdown",
   "metadata": {},
   "source": [
    "### Define function to explore all the neighborhoods \n"
   ]
  },
  {
   "cell_type": "markdown",
   "metadata": {},
   "source": [
    "**we set the limit=3000, radius=1000 to include most venues in each neighborhoods**"
   ]
  },
  {
   "cell_type": "code",
   "execution_count": 38,
   "metadata": {
    "ExecuteTime": {
     "end_time": "2021-04-01T02:54:56.132467Z",
     "start_time": "2021-04-01T02:54:56.112478Z"
    }
   },
   "outputs": [],
   "source": [
    "def getNearbyVenues(names, latitudes, longitudes, radius=1000):\n",
    "\n",
    "    venues_list = []\n",
    "    for name, lat, lng in zip(names, latitudes, longitudes):\n",
    "        print(name)\n",
    "\n",
    "        # create the API request URL\n",
    "        url = 'https://api.foursquare.com/v2/venues/explore?&client_id={}&client_secret={}&v={}&ll={},{}&radius={}&limit={}'.format(\n",
    "            CLIENT_ID,\n",
    "            CLIENT_SECRET,\n",
    "            VERSION,\n",
    "            lat,\n",
    "            lng,\n",
    "            radius,\n",
    "            LIMIT)\n",
    "\n",
    "        # make the GET request\n",
    "        results = requests.get(url).json()[\"response\"]['groups'][0]['items']\n",
    "\n",
    "        # return only relevant information for each nearby venue\n",
    "        venues_list.append([(\n",
    "            name,\n",
    "            lat,\n",
    "            lng,\n",
    "            v['venue']['name'],\n",
    "            v['venue']['location']['lat'],\n",
    "            v['venue']['location']['lng'],\n",
    "            v['venue']['categories'][0]['name']) for v in results])\n",
    "\n",
    "    nearby_venues = pd.DataFrame(\n",
    "        [item for venue_list in venues_list for item in venue_list])\n",
    "    nearby_venues.columns = ['Neighborhood',\n",
    "                             'Latitude',\n",
    "                             'Longitude',\n",
    "                             'Venue',\n",
    "                             'VLatitude',\n",
    "                             'VLongitude',\n",
    "                             'VCategory']\n",
    "\n",
    "    return(nearby_venues)"
   ]
  },
  {
   "cell_type": "markdown",
   "metadata": {},
   "source": [
    "### Combine geo and venue infomation\n"
   ]
  },
  {
   "cell_type": "code",
   "execution_count": 39,
   "metadata": {},
   "outputs": [],
   "source": [
    "part_df = neighborhoods"
   ]
  },
  {
   "cell_type": "code",
   "execution_count": 40,
   "metadata": {
    "ExecuteTime": {
     "end_time": "2021-04-01T02:55:18.714664Z",
     "start_time": "2021-04-01T02:55:00.734649Z"
    },
    "scrolled": true
   },
   "outputs": [
    {
     "name": "stdout",
     "output_type": "stream",
     "text": [
      "Bronx\n",
      "Bronx\n",
      "Bronx\n",
      "Bronx\n",
      "Bronx\n",
      "Bronx\n",
      "Manhattan\n",
      "Bronx\n",
      "Bronx\n",
      "Bronx\n",
      "Bronx\n",
      "Bronx\n",
      "Bronx\n",
      "Bronx\n",
      "Bronx\n",
      "Bronx\n",
      "Bronx\n",
      "Bronx\n",
      "Bronx\n",
      "Bronx\n",
      "Bronx\n",
      "Bronx\n",
      "Bronx\n",
      "Bronx\n",
      "Bronx\n",
      "Bronx\n",
      "Bronx\n",
      "Bronx\n",
      "Bronx\n",
      "Bronx\n",
      "Bronx\n",
      "Bronx\n",
      "Bronx\n",
      "Bronx\n",
      "Bronx\n",
      "Bronx\n",
      "Bronx\n",
      "Bronx\n",
      "Bronx\n",
      "Bronx\n",
      "Bronx\n",
      "Bronx\n",
      "Bronx\n",
      "Bronx\n",
      "Bronx\n",
      "Bronx\n",
      "Brooklyn\n",
      "Brooklyn\n",
      "Brooklyn\n",
      "Brooklyn\n",
      "Brooklyn\n",
      "Brooklyn\n",
      "Brooklyn\n",
      "Brooklyn\n",
      "Brooklyn\n",
      "Brooklyn\n",
      "Brooklyn\n",
      "Brooklyn\n",
      "Brooklyn\n",
      "Brooklyn\n",
      "Brooklyn\n",
      "Brooklyn\n",
      "Brooklyn\n",
      "Brooklyn\n",
      "Brooklyn\n",
      "Brooklyn\n",
      "Brooklyn\n",
      "Brooklyn\n",
      "Brooklyn\n",
      "Brooklyn\n",
      "Brooklyn\n",
      "Brooklyn\n",
      "Brooklyn\n",
      "Brooklyn\n",
      "Brooklyn\n",
      "Brooklyn\n",
      "Brooklyn\n",
      "Brooklyn\n",
      "Brooklyn\n",
      "Brooklyn\n",
      "Brooklyn\n",
      "Brooklyn\n",
      "Brooklyn\n",
      "Brooklyn\n",
      "Brooklyn\n",
      "Brooklyn\n",
      "Brooklyn\n",
      "Brooklyn\n",
      "Brooklyn\n",
      "Brooklyn\n",
      "Brooklyn\n",
      "Brooklyn\n",
      "Brooklyn\n",
      "Brooklyn\n",
      "Brooklyn\n",
      "Brooklyn\n",
      "Brooklyn\n",
      "Brooklyn\n",
      "Brooklyn\n",
      "Brooklyn\n",
      "Manhattan\n",
      "Manhattan\n",
      "Manhattan\n",
      "Manhattan\n",
      "Manhattan\n",
      "Manhattan\n",
      "Manhattan\n",
      "Manhattan\n",
      "Manhattan\n",
      "Manhattan\n",
      "Manhattan\n",
      "Manhattan\n",
      "Manhattan\n",
      "Manhattan\n",
      "Manhattan\n",
      "Manhattan\n",
      "Manhattan\n",
      "Manhattan\n",
      "Manhattan\n",
      "Manhattan\n",
      "Manhattan\n",
      "Manhattan\n",
      "Manhattan\n",
      "Manhattan\n",
      "Manhattan\n",
      "Manhattan\n",
      "Manhattan\n",
      "Manhattan\n",
      "Manhattan\n",
      "Queens\n",
      "Queens\n",
      "Queens\n",
      "Queens\n",
      "Queens\n",
      "Queens\n",
      "Queens\n",
      "Queens\n",
      "Queens\n",
      "Queens\n",
      "Queens\n",
      "Queens\n",
      "Queens\n",
      "Queens\n",
      "Queens\n",
      "Queens\n",
      "Queens\n",
      "Queens\n",
      "Queens\n",
      "Queens\n",
      "Queens\n",
      "Queens\n",
      "Queens\n",
      "Queens\n",
      "Queens\n",
      "Queens\n",
      "Queens\n",
      "Queens\n",
      "Queens\n",
      "Queens\n",
      "Queens\n",
      "Queens\n",
      "Queens\n",
      "Queens\n",
      "Queens\n",
      "Queens\n",
      "Queens\n",
      "Queens\n",
      "Queens\n",
      "Queens\n",
      "Queens\n",
      "Queens\n",
      "Queens\n",
      "Queens\n",
      "Queens\n",
      "Queens\n",
      "Queens\n",
      "Queens\n",
      "Queens\n",
      "Queens\n",
      "Queens\n",
      "Queens\n",
      "Queens\n",
      "Queens\n",
      "Queens\n",
      "Queens\n",
      "Queens\n",
      "Queens\n",
      "Queens\n",
      "Queens\n",
      "Queens\n",
      "Queens\n",
      "Queens\n",
      "Queens\n",
      "Queens\n",
      "Queens\n",
      "Queens\n",
      "Queens\n",
      "Staten Island\n",
      "Staten Island\n",
      "Staten Island\n",
      "Staten Island\n",
      "Staten Island\n",
      "Staten Island\n",
      "Staten Island\n",
      "Staten Island\n",
      "Staten Island\n",
      "Staten Island\n",
      "Staten Island\n",
      "Staten Island\n",
      "Staten Island\n",
      "Staten Island\n",
      "Staten Island\n",
      "Staten Island\n",
      "Staten Island\n",
      "Staten Island\n",
      "Staten Island\n",
      "Staten Island\n",
      "Staten Island\n",
      "Staten Island\n",
      "Staten Island\n",
      "Staten Island\n",
      "Brooklyn\n",
      "Brooklyn\n",
      "Brooklyn\n",
      "Staten Island\n",
      "Staten Island\n",
      "Staten Island\n",
      "Staten Island\n",
      "Staten Island\n",
      "Staten Island\n",
      "Staten Island\n",
      "Staten Island\n",
      "Staten Island\n",
      "Staten Island\n",
      "Staten Island\n",
      "Staten Island\n",
      "Staten Island\n",
      "Staten Island\n",
      "Staten Island\n",
      "Staten Island\n",
      "Staten Island\n",
      "Staten Island\n",
      "Staten Island\n",
      "Staten Island\n",
      "Staten Island\n",
      "Staten Island\n",
      "Staten Island\n",
      "Manhattan\n",
      "Manhattan\n",
      "Manhattan\n",
      "Manhattan\n",
      "Staten Island\n",
      "Staten Island\n",
      "Staten Island\n",
      "Staten Island\n",
      "Staten Island\n",
      "Staten Island\n",
      "Staten Island\n",
      "Staten Island\n",
      "Brooklyn\n",
      "Brooklyn\n",
      "Brooklyn\n",
      "Brooklyn\n",
      "Queens\n",
      "Queens\n",
      "Queens\n",
      "Queens\n",
      "Bronx\n",
      "Bronx\n",
      "Bronx\n",
      "Bronx\n",
      "Manhattan\n",
      "Queens\n",
      "Manhattan\n",
      "Manhattan\n",
      "Manhattan\n",
      "Manhattan\n",
      "Queens\n",
      "Queens\n",
      "Brooklyn\n",
      "Brooklyn\n",
      "Brooklyn\n",
      "Brooklyn\n",
      "Brooklyn\n",
      "Staten Island\n",
      "Staten Island\n",
      "Staten Island\n",
      "Staten Island\n",
      "Queens\n",
      "Brooklyn\n",
      "Queens\n",
      "Staten Island\n",
      "Staten Island\n",
      "Staten Island\n",
      "Queens\n",
      "Brooklyn\n",
      "Brooklyn\n",
      "Bronx\n",
      "Bronx\n",
      "Bronx\n",
      "Brooklyn\n",
      "Manhattan\n",
      "Queens\n",
      "Queens\n",
      "Queens\n",
      "Staten Island\n"
     ]
    }
   ],
   "source": [
    "venues_df = getNearbyVenues(names=part_df['Borough'],\n",
    "                            latitudes=part_df['Latitude'],\n",
    "                            longitudes=part_df['Longitude']\n",
    "                            )"
   ]
  },
  {
   "cell_type": "code",
   "execution_count": 41,
   "metadata": {
    "ExecuteTime": {
     "end_time": "2021-04-01T02:55:23.602761Z",
     "start_time": "2021-04-01T02:55:23.585772Z"
    }
   },
   "outputs": [
    {
     "data": {
      "text/plain": [
       "(20573, 7)"
      ]
     },
     "execution_count": 41,
     "metadata": {},
     "output_type": "execute_result"
    }
   ],
   "source": [
    "venues_df.shape"
   ]
  },
  {
   "cell_type": "code",
   "execution_count": 42,
   "metadata": {},
   "outputs": [
    {
     "data": {
      "text/html": [
       "<div>\n",
       "<style scoped>\n",
       "    .dataframe tbody tr th:only-of-type {\n",
       "        vertical-align: middle;\n",
       "    }\n",
       "\n",
       "    .dataframe tbody tr th {\n",
       "        vertical-align: top;\n",
       "    }\n",
       "\n",
       "    .dataframe thead th {\n",
       "        text-align: right;\n",
       "    }\n",
       "</style>\n",
       "<table border=\"1\" class=\"dataframe\">\n",
       "  <thead>\n",
       "    <tr style=\"text-align: right;\">\n",
       "      <th></th>\n",
       "      <th>Neighborhood</th>\n",
       "      <th>Latitude</th>\n",
       "      <th>Longitude</th>\n",
       "      <th>Venue</th>\n",
       "      <th>VLatitude</th>\n",
       "      <th>VLongitude</th>\n",
       "      <th>VCategory</th>\n",
       "    </tr>\n",
       "  </thead>\n",
       "  <tbody>\n",
       "    <tr>\n",
       "      <th>0</th>\n",
       "      <td>Bronx</td>\n",
       "      <td>40.894705</td>\n",
       "      <td>-73.847201</td>\n",
       "      <td>Lollipops Gelato</td>\n",
       "      <td>40.894123</td>\n",
       "      <td>-73.845892</td>\n",
       "      <td>Dessert Shop</td>\n",
       "    </tr>\n",
       "    <tr>\n",
       "      <th>1</th>\n",
       "      <td>Bronx</td>\n",
       "      <td>40.894705</td>\n",
       "      <td>-73.847201</td>\n",
       "      <td>Ripe Kitchen &amp; Bar</td>\n",
       "      <td>40.898152</td>\n",
       "      <td>-73.838875</td>\n",
       "      <td>Caribbean Restaurant</td>\n",
       "    </tr>\n",
       "    <tr>\n",
       "      <th>2</th>\n",
       "      <td>Bronx</td>\n",
       "      <td>40.894705</td>\n",
       "      <td>-73.847201</td>\n",
       "      <td>Ali's Roti Shop</td>\n",
       "      <td>40.894036</td>\n",
       "      <td>-73.856935</td>\n",
       "      <td>Caribbean Restaurant</td>\n",
       "    </tr>\n",
       "    <tr>\n",
       "      <th>3</th>\n",
       "      <td>Bronx</td>\n",
       "      <td>40.894705</td>\n",
       "      <td>-73.847201</td>\n",
       "      <td>Rite Aid</td>\n",
       "      <td>40.896649</td>\n",
       "      <td>-73.844846</td>\n",
       "      <td>Pharmacy</td>\n",
       "    </tr>\n",
       "    <tr>\n",
       "      <th>4</th>\n",
       "      <td>Bronx</td>\n",
       "      <td>40.894705</td>\n",
       "      <td>-73.847201</td>\n",
       "      <td>Carvel Ice Cream</td>\n",
       "      <td>40.890487</td>\n",
       "      <td>-73.848568</td>\n",
       "      <td>Ice Cream Shop</td>\n",
       "    </tr>\n",
       "  </tbody>\n",
       "</table>\n",
       "</div>"
      ],
      "text/plain": [
       "  Neighborhood   Latitude  Longitude               Venue  VLatitude  \\\n",
       "0        Bronx  40.894705 -73.847201    Lollipops Gelato  40.894123   \n",
       "1        Bronx  40.894705 -73.847201  Ripe Kitchen & Bar  40.898152   \n",
       "2        Bronx  40.894705 -73.847201     Ali's Roti Shop  40.894036   \n",
       "3        Bronx  40.894705 -73.847201            Rite Aid  40.896649   \n",
       "4        Bronx  40.894705 -73.847201    Carvel Ice Cream  40.890487   \n",
       "\n",
       "   VLongitude             VCategory  \n",
       "0  -73.845892          Dessert Shop  \n",
       "1  -73.838875  Caribbean Restaurant  \n",
       "2  -73.856935  Caribbean Restaurant  \n",
       "3  -73.844846              Pharmacy  \n",
       "4  -73.848568        Ice Cream Shop  "
      ]
     },
     "execution_count": 42,
     "metadata": {},
     "output_type": "execute_result"
    }
   ],
   "source": [
    "venues_df.head()"
   ]
  },
  {
   "cell_type": "markdown",
   "metadata": {},
   "source": [
    "**Check how many venues were returned for each neighborhood**\n"
   ]
  },
  {
   "cell_type": "code",
   "execution_count": 43,
   "metadata": {
    "ExecuteTime": {
     "end_time": "2021-04-01T02:56:02.473149Z",
     "start_time": "2021-04-01T02:56:02.450162Z"
    }
   },
   "outputs": [
    {
     "data": {
      "text/html": [
       "<div>\n",
       "<style scoped>\n",
       "    .dataframe tbody tr th:only-of-type {\n",
       "        vertical-align: middle;\n",
       "    }\n",
       "\n",
       "    .dataframe tbody tr th {\n",
       "        vertical-align: top;\n",
       "    }\n",
       "\n",
       "    .dataframe thead th {\n",
       "        text-align: right;\n",
       "    }\n",
       "</style>\n",
       "<table border=\"1\" class=\"dataframe\">\n",
       "  <thead>\n",
       "    <tr style=\"text-align: right;\">\n",
       "      <th></th>\n",
       "      <th>Venue</th>\n",
       "    </tr>\n",
       "    <tr>\n",
       "      <th>Neighborhood</th>\n",
       "      <th></th>\n",
       "    </tr>\n",
       "  </thead>\n",
       "  <tbody>\n",
       "    <tr>\n",
       "      <th>Bronx</th>\n",
       "      <td>3220</td>\n",
       "    </tr>\n",
       "    <tr>\n",
       "      <th>Brooklyn</th>\n",
       "      <td>5654</td>\n",
       "    </tr>\n",
       "    <tr>\n",
       "      <th>Manhattan</th>\n",
       "      <td>3982</td>\n",
       "    </tr>\n",
       "    <tr>\n",
       "      <th>Queens</th>\n",
       "      <td>5278</td>\n",
       "    </tr>\n",
       "    <tr>\n",
       "      <th>Staten Island</th>\n",
       "      <td>2439</td>\n",
       "    </tr>\n",
       "  </tbody>\n",
       "</table>\n",
       "</div>"
      ],
      "text/plain": [
       "               Venue\n",
       "Neighborhood        \n",
       "Bronx           3220\n",
       "Brooklyn        5654\n",
       "Manhattan       3982\n",
       "Queens          5278\n",
       "Staten Island   2439"
      ]
     },
     "execution_count": 43,
     "metadata": {},
     "output_type": "execute_result"
    }
   ],
   "source": [
    "venues_df.groupby('Neighborhood')[['Venue']].count()"
   ]
  },
  {
   "cell_type": "markdown",
   "metadata": {},
   "source": [
    "**Check how many unique categories are returned**\n"
   ]
  },
  {
   "cell_type": "code",
   "execution_count": 44,
   "metadata": {
    "ExecuteTime": {
     "end_time": "2021-04-01T02:56:13.683234Z",
     "start_time": "2021-04-01T02:56:13.673221Z"
    }
   },
   "outputs": [
    {
     "name": "stdout",
     "output_type": "stream",
     "text": [
      "There are 487 uniques categories.\n",
      "['Dessert Shop' 'Caribbean Restaurant' 'Pharmacy' 'Ice Cream Shop'\n",
      " 'Burger Joint' 'Donut Shop' 'Sandwich Place' 'Mobile Phone Shop' 'Bakery'\n",
      " 'Fried Chicken Joint' 'Fast Food Restaurant' 'Pizza Place' 'Supermarket'\n",
      " 'Bank' 'Gas Station' 'Deli / Bodega' 'Food Truck' 'Chinese Restaurant'\n",
      " 'Spanish Restaurant' 'Check Cashing Service' 'Park' 'Dumpling Restaurant'\n",
      " 'Seafood Restaurant' 'Discount Store' 'Shopping Mall'\n",
      " 'Mexican Restaurant' 'Kids Store' 'BBQ Joint' 'Bagel Shop'\n",
      " 'Department Store' 'Coffee Shop' 'Post Office' 'Shoe Store'\n",
      " 'Video Game Store' 'Furniture / Home Store' 'Convenience Store'\n",
      " 'Grocery Store' 'Clothing Store' 'Paper / Office Supplies Store'\n",
      " 'Accessories Store' 'Nightclub' 'Movie Theater' 'Restaurant'\n",
      " 'Mattress Store' 'Miscellaneous Shop' \"Women's Store\" \"Men's Store\"\n",
      " 'Bus Station' 'Baseball Field' 'Salon / Barbershop' 'American Restaurant'\n",
      " 'Hotel' 'Electronics Store' 'Gym / Fitness Center' 'Buffet'\n",
      " 'Metro Station' 'Music Venue' 'Auto Garage' 'Diner' 'Café' 'Wine Shop'\n",
      " 'Gym' 'Sports Bar' 'Asian Restaurant' 'Breakfast Spot' 'Wings Joint'\n",
      " 'Supplement Shop' 'Bowling Alley' 'Cocktail Bar' 'Cosmetics Shop'\n",
      " 'Bus Stop' 'Food & Drink Shop' 'Intersection' 'Shipping Store' 'Bar'\n",
      " 'Garden' 'Tapas Restaurant' 'Plaza' 'Greek Restaurant' 'Steakhouse'\n",
      " 'Historic Site' 'Public Art' 'Lounge' 'River' 'Art Gallery' 'Playground'\n",
      " 'Sporting Goods Shop' 'Japanese Restaurant' 'Health & Beauty Service'\n",
      " 'Thai Restaurant' 'Italian Restaurant' 'Dog Run' 'Tennis Court'\n",
      " 'Gourmet Shop' 'Latin American Restaurant' 'Beer Bar' 'Pub' 'Yoga Studio'\n",
      " 'Warehouse Store' 'Trail' 'Thrift / Vintage Store' 'Track' 'Candy Store'\n",
      " 'Rental Car Location' 'Pet Store' 'Athletics & Sports' 'Scenic Lookout'\n",
      " 'Tennis Stadium' 'Cuban Restaurant' 'Soccer Stadium' 'Bus Line' 'Lake'\n",
      " 'Indian Restaurant' 'Arcade' 'Train Station' 'Liquor Store' 'Smoke Shop'\n",
      " 'Campground' 'Golf Course' 'Performing Arts Venue' 'Fish Market'\n",
      " 'Moving Target' 'Soup Place' 'Spa' 'Brewery'\n",
      " 'Vegetarian / Vegan Restaurant' 'Basketball Court' 'Lingerie Store'\n",
      " 'Theme Park' 'Hardware Store' 'Pool' 'Harbor / Marina'\n",
      " 'Frozen Yogurt Shop' 'Sushi Restaurant' 'Juice Bar' 'Martial Arts School'\n",
      " 'Eastern European Restaurant' 'Optical Shop' 'French Restaurant'\n",
      " 'History Museum' 'Arts & Crafts Store' 'Jewelry Store' 'Boat or Ferry'\n",
      " 'Beer Garden' 'Botanical Garden' 'Farmers Market' 'Exhibit' 'Gift Shop'\n",
      " 'Theater' 'Tram Station' 'New American Restaurant' 'Outlet Store'\n",
      " 'African Restaurant' 'State / Provincial Park' 'Auto Dealership' 'Market'\n",
      " 'Bridge' 'Middle Eastern Restaurant' 'Skate Park' 'Vietnamese Restaurant'\n",
      " 'Zoo' 'Puerto Rican Restaurant' 'Zoo Exhibit'\n",
      " 'Theme Park Ride / Attraction' 'Art Museum' 'Baseball Stadium'\n",
      " 'Soccer Field' 'Sculpture Garden' 'Hobby Shop' 'Snack Place'\n",
      " 'Track Stadium' 'Hot Dog Joint' 'Theme Restaurant' 'Mac & Cheese Joint'\n",
      " 'Peruvian Restaurant' 'Distillery' 'Speakeasy' 'Storage Facility'\n",
      " 'Tunnel' 'Home Service' 'Bookstore' 'Sports Club' 'Kitchen Supply Store'\n",
      " 'Construction & Landscaping' 'Other Great Outdoors' 'Waste Facility'\n",
      " 'Paintball Field' 'Travel & Transport' 'Southern / Soul Food Restaurant'\n",
      " 'Video Store' 'Food' 'Neighborhood' 'Event Space' 'Beach' 'Lawyer'\n",
      " 'Dive Bar' 'Comic Shop' 'Hockey Rink' 'Dance Studio' 'Indie Theater'\n",
      " 'Medical Center' 'Empanada Restaurant' 'Flower Shop' 'Arepa Restaurant'\n",
      " 'Pool Hall' 'Hookah Bar' 'Tattoo Parlor' 'Cheese Shop' 'Toll Plaza'\n",
      " 'Social Club' 'Music Store' 'Vape Store' 'Nightlife Spot'\n",
      " 'Comfort Food Restaurant' 'Photography Studio' 'Bike Rental / Bike Share'\n",
      " 'Automotive Shop' 'Motel' 'Other Nightlife' 'Rental Service' 'Laundromat'\n",
      " 'Business Service' 'Nail Salon' 'Recreation Center' 'Shop & Service'\n",
      " 'Shoe Repair' 'Taco Place' 'Caucasian Restaurant' 'Tea Room'\n",
      " 'Cupcake Shop' 'Turkish Restaurant' 'Toy / Game Store' 'Wine Bar'\n",
      " 'Noodle House' 'Irish Pub' 'Halal Restaurant' 'Lebanese Restaurant'\n",
      " 'Cantonese Restaurant' 'Tanning Salon' 'Shabu-Shabu Restaurant' 'Butcher'\n",
      " 'Dim Sum Restaurant' 'Creperie' 'Bubble Tea Shop' 'Hotpot Restaurant'\n",
      " 'Korean Restaurant' 'Bike Shop' 'Record Shop' 'Kofte Place'\n",
      " 'Szechuan Restaurant' 'Malay Restaurant' 'Food Court' 'Polish Restaurant'\n",
      " 'Laundry Service' 'Beer Store' 'Boutique' 'Gymnastics Gym' 'Whisky Bar'\n",
      " 'Gastropub' 'Garden Center' 'Fruit & Vegetable Store' 'Coworking Space'\n",
      " 'Other Repair Shop' 'Russian Restaurant' 'Mediterranean Restaurant'\n",
      " 'Varenyky restaurant' 'Non-Profit' 'Aquarium'\n",
      " 'Residential Building (Apartment / Condo)' 'Indoor Play Area'\n",
      " 'High School' 'Karaoke Bar' 'Jazz Club' 'Burrito Place' 'Organic Grocery'\n",
      " 'General Entertainment' 'Big Box Store' 'Salad Place' 'Pilates Studio'\n",
      " 'Tibetan Restaurant' 'Health Food Store' 'Filipino Restaurant' 'Library'\n",
      " 'Museum' 'Tiki Bar' 'Cajun / Creole Restaurant' 'Baggage Locker'\n",
      " 'Veterinarian' 'Animal Shelter' 'Outdoors & Recreation'\n",
      " 'Austrian Restaurant' 'Bike Trail' 'Racetrack' 'Farm' 'Antique Shop'\n",
      " 'Multiplex' 'Used Bookstore' 'Ramen Restaurant' 'North Indian Restaurant'\n",
      " 'Pie Shop' 'Monument / Landmark' 'Cycle Studio' 'Massage Studio'\n",
      " 'Falafel Restaurant' 'Fish & Chips Shop' 'South American Restaurant'\n",
      " 'Boxing Gym' 'Ethiopian Restaurant' 'Indie Movie Theater'\n",
      " 'Community Center' 'Brazilian Restaurant' 'Pier' 'Yemeni Restaurant'\n",
      " 'Pet Service' 'Roller Rink' 'Waterfront' 'Motorcycle Shop' 'Gaming Cafe'\n",
      " 'German Restaurant' 'Church' 'Factory' 'Concert Hall'\n",
      " 'Street Food Gathering' 'Rock Club' 'Argentinian Restaurant' 'Mini Golf'\n",
      " 'Herbs & Spices Store' 'Israeli Restaurant' 'Opera House'\n",
      " 'Basketball Stadium' 'Field' 'Colombian Restaurant' 'Road'\n",
      " 'Hawaiian Restaurant' 'Stables' 'Tourist Information Center' 'Gym Pool'\n",
      " 'Skating Rink' 'Street Art' 'Souvenir Shop' 'Go Kart Track' 'Food Stand'\n",
      " 'Platform' 'Rest Area' 'Surf Spot' 'Shopping Plaza' 'Shanghai Restaurant'\n",
      " 'Board Shop' 'School' 'Building' 'Film Studio' 'Dry Cleaner'\n",
      " 'Climbing Gym' 'Tailor Shop' 'Recording Studio' 'Event Service' 'Gay Bar'\n",
      " 'Taiwanese Restaurant' 'Arts & Entertainment' 'Hostel'\n",
      " 'Pakistani Restaurant' 'Sake Bar' 'Poke Place' 'Piercing Parlor'\n",
      " 'Udon Restaurant' 'Burmese Restaurant' 'Australian Restaurant'\n",
      " 'Hotel Bar' 'Chocolate Shop' 'Pet Café' 'Lighthouse' 'Bistro'\n",
      " 'Venezuelan Restaurant' 'Adult Boutique' 'Japanese Curry Restaurant'\n",
      " 'College Theater' 'Cafeteria' 'Fountain' 'Outdoor Sculpture' 'Roof Deck'\n",
      " \"Doctor's Office\" 'Daycare' 'Czech Restaurant'\n",
      " 'College Academic Building' 'Club House' 'English Restaurant'\n",
      " 'Persian Restaurant' 'Drugstore' 'Kosher Restaurant'\n",
      " 'College Arts Building' 'Circus' 'Comedy Club' 'Music School'\n",
      " 'Kebab Restaurant' 'Camera Store' 'Resort' 'Office' 'Jewish Restaurant'\n",
      " 'Tech Startup' 'Paella Restaurant' 'Physical Therapist' 'Flea Market'\n",
      " 'Golf Driving Range' 'Perfume Shop' 'Outdoor Supply Store'\n",
      " 'Scandinavian Restaurant' 'Moroccan Restaurant' 'Swiss Restaurant'\n",
      " 'Ukrainian Restaurant' 'Volleyball Court'\n",
      " 'Molecular Gastronomy Restaurant' 'Newsstand' 'Hill' 'Cooking School'\n",
      " 'Memorial Site' 'Auditorium' 'Pedestrian Plaza' 'Souvlaki Shop'\n",
      " 'Himalayan Restaurant' 'Salvadoran Restaurant' 'Indonesian Restaurant'\n",
      " 'Science Museum' 'Train' 'Costume Shop' 'Government Building'\n",
      " 'Airport Lounge' 'Smoothie Shop' 'Airport Service' 'Airport Terminal'\n",
      " 'Weight Loss Center' 'Tex-Mex Restaurant' 'Gun Range' 'Car Wash'\n",
      " 'Eye Doctor' 'Modern Greek Restaurant' 'Parking' 'Insurance Office'\n",
      " 'College Residence Hall' 'ATM' 'Afghan Restaurant'\n",
      " 'Sri Lankan Restaurant' 'Middle School' 'Portuguese Restaurant'\n",
      " 'Gluten-free Restaurant' 'Adult Education Center' 'Beach Bar'\n",
      " 'Pop-Up Shop' 'Korean BBQ Restaurant' 'Bath House' 'Dosa Place'\n",
      " 'Locksmith' 'College Gym' 'College Basketball Court' 'Stationery Store'\n",
      " 'TV Station' 'Pastry Shop' 'Design Studio' 'Outlet Mall' 'Mountain'\n",
      " 'Tree' 'Food Service' 'Modern European Restaurant'\n",
      " 'Professional & Other Places' 'Escape Room' 'Reservoir' 'Piano Bar'\n",
      " 'Cultural Center' 'Border Crossing' 'Rock Climbing Spot' 'Taxi Stand'\n",
      " 'General Travel' 'Tour Provider' 'Spiritual Center' 'Synagogue'\n",
      " 'Bridal Shop' 'Duty-free Shop' 'Soba Restaurant' 'Heliport' 'Winery'\n",
      " 'Entertainment Service' 'Amphitheater' 'Cruise Ship' 'Bed & Breakfast'\n",
      " 'National Park' 'IT Services' 'Travel Lounge' 'Strip Club']\n"
     ]
    }
   ],
   "source": [
    "print('There are {} uniques categories.'.format(\n",
    "    len(venues_df['VCategory'].unique())))\n",
    "print(venues_df['VCategory'].unique())"
   ]
  },
  {
   "cell_type": "markdown",
   "metadata": {},
   "source": [
    "## Cluster Restaurants\n"
   ]
  },
  {
   "cell_type": "markdown",
   "metadata": {},
   "source": [
    "### Choose all venues related to restaurants"
   ]
  },
  {
   "cell_type": "code",
   "execution_count": 53,
   "metadata": {},
   "outputs": [],
   "source": [
    "restaurant_dict = ['Restaurant', 'Food', 'Coffee', 'Soup', 'Breakfast', 'Pizza', 'BBQ', 'Sandwich', 'Chinese'\n",
    "                   'Fish', 'Chicken', 'Burger', 'Caf', 'Bagel', 'Taco', 'Donut', 'Cupcake', 'Salad', 'Sake', 'Sushi', 'Japanese']"
   ]
  },
  {
   "cell_type": "code",
   "execution_count": 54,
   "metadata": {},
   "outputs": [],
   "source": [
    "food_category = pd.DataFrame()\n",
    "for i in range(0, len(restaurant_dict)):\n",
    "    if food_category.shape[0] == 0:\n",
    "        food_category = venues_df['VCategory'].str.contains(restaurant_dict[i])\n",
    "    else:\n",
    "        food_category = venues_df['VCategory'].str.contains(\n",
    "            restaurant_dict[i]) | food_category\n",
    "\n",
    "food_category = food_category.to_numpy()"
   ]
  },
  {
   "cell_type": "code",
   "execution_count": 55,
   "metadata": {
    "scrolled": true
   },
   "outputs": [
    {
     "data": {
      "text/html": [
       "<div>\n",
       "<style scoped>\n",
       "    .dataframe tbody tr th:only-of-type {\n",
       "        vertical-align: middle;\n",
       "    }\n",
       "\n",
       "    .dataframe tbody tr th {\n",
       "        vertical-align: top;\n",
       "    }\n",
       "\n",
       "    .dataframe thead th {\n",
       "        text-align: right;\n",
       "    }\n",
       "</style>\n",
       "<table border=\"1\" class=\"dataframe\">\n",
       "  <thead>\n",
       "    <tr style=\"text-align: right;\">\n",
       "      <th></th>\n",
       "      <th>Neighborhood</th>\n",
       "      <th>Latitude</th>\n",
       "      <th>Longitude</th>\n",
       "      <th>Venue</th>\n",
       "      <th>VLatitude</th>\n",
       "      <th>VLongitude</th>\n",
       "      <th>VCategory</th>\n",
       "    </tr>\n",
       "  </thead>\n",
       "  <tbody>\n",
       "    <tr>\n",
       "      <th>1</th>\n",
       "      <td>Bronx</td>\n",
       "      <td>40.894705</td>\n",
       "      <td>-73.847201</td>\n",
       "      <td>Ripe Kitchen &amp; Bar</td>\n",
       "      <td>40.898152</td>\n",
       "      <td>-73.838875</td>\n",
       "      <td>Caribbean Restaurant</td>\n",
       "    </tr>\n",
       "    <tr>\n",
       "      <th>2</th>\n",
       "      <td>Bronx</td>\n",
       "      <td>40.894705</td>\n",
       "      <td>-73.847201</td>\n",
       "      <td>Ali's Roti Shop</td>\n",
       "      <td>40.894036</td>\n",
       "      <td>-73.856935</td>\n",
       "      <td>Caribbean Restaurant</td>\n",
       "    </tr>\n",
       "    <tr>\n",
       "      <th>5</th>\n",
       "      <td>Bronx</td>\n",
       "      <td>40.894705</td>\n",
       "      <td>-73.847201</td>\n",
       "      <td>Jackie's West Indian Bakery</td>\n",
       "      <td>40.889283</td>\n",
       "      <td>-73.843310</td>\n",
       "      <td>Caribbean Restaurant</td>\n",
       "    </tr>\n",
       "    <tr>\n",
       "      <th>6</th>\n",
       "      <td>Bronx</td>\n",
       "      <td>40.894705</td>\n",
       "      <td>-73.847201</td>\n",
       "      <td>Jimbo's</td>\n",
       "      <td>40.891740</td>\n",
       "      <td>-73.858226</td>\n",
       "      <td>Burger Joint</td>\n",
       "    </tr>\n",
       "    <tr>\n",
       "      <th>9</th>\n",
       "      <td>Bronx</td>\n",
       "      <td>40.894705</td>\n",
       "      <td>-73.847201</td>\n",
       "      <td>Dunkin'</td>\n",
       "      <td>40.890459</td>\n",
       "      <td>-73.849089</td>\n",
       "      <td>Donut Shop</td>\n",
       "    </tr>\n",
       "  </tbody>\n",
       "</table>\n",
       "</div>"
      ],
      "text/plain": [
       "  Neighborhood   Latitude  Longitude                        Venue  VLatitude  \\\n",
       "1        Bronx  40.894705 -73.847201           Ripe Kitchen & Bar  40.898152   \n",
       "2        Bronx  40.894705 -73.847201              Ali's Roti Shop  40.894036   \n",
       "5        Bronx  40.894705 -73.847201  Jackie's West Indian Bakery  40.889283   \n",
       "6        Bronx  40.894705 -73.847201                      Jimbo's  40.891740   \n",
       "9        Bronx  40.894705 -73.847201                      Dunkin'  40.890459   \n",
       "\n",
       "   VLongitude             VCategory  \n",
       "1  -73.838875  Caribbean Restaurant  \n",
       "2  -73.856935  Caribbean Restaurant  \n",
       "5  -73.843310  Caribbean Restaurant  \n",
       "6  -73.858226          Burger Joint  \n",
       "9  -73.849089            Donut Shop  "
      ]
     },
     "execution_count": 55,
     "metadata": {},
     "output_type": "execute_result"
    }
   ],
   "source": [
    "venues_food = venues_df.iloc[food_category]\n",
    "venues_food.shape\n",
    "venues_food.head()"
   ]
  },
  {
   "cell_type": "markdown",
   "metadata": {},
   "source": [
    "**Check out the top 10 frequently occuring restaurants**"
   ]
  },
  {
   "cell_type": "code",
   "execution_count": 56,
   "metadata": {},
   "outputs": [
    {
     "data": {
      "text/html": [
       "<div>\n",
       "<style scoped>\n",
       "    .dataframe tbody tr th:only-of-type {\n",
       "        vertical-align: middle;\n",
       "    }\n",
       "\n",
       "    .dataframe tbody tr th {\n",
       "        vertical-align: top;\n",
       "    }\n",
       "\n",
       "    .dataframe thead th {\n",
       "        text-align: right;\n",
       "    }\n",
       "</style>\n",
       "<table border=\"1\" class=\"dataframe\">\n",
       "  <thead>\n",
       "    <tr style=\"text-align: right;\">\n",
       "      <th></th>\n",
       "      <th>Venue</th>\n",
       "    </tr>\n",
       "    <tr>\n",
       "      <th>VCategory</th>\n",
       "      <th></th>\n",
       "    </tr>\n",
       "  </thead>\n",
       "  <tbody>\n",
       "    <tr>\n",
       "      <th>Pizza Place</th>\n",
       "      <td>992</td>\n",
       "    </tr>\n",
       "    <tr>\n",
       "      <th>Coffee Shop</th>\n",
       "      <td>560</td>\n",
       "    </tr>\n",
       "    <tr>\n",
       "      <th>Italian Restaurant</th>\n",
       "      <td>525</td>\n",
       "    </tr>\n",
       "    <tr>\n",
       "      <th>Donut Shop</th>\n",
       "      <td>435</td>\n",
       "    </tr>\n",
       "    <tr>\n",
       "      <th>Chinese Restaurant</th>\n",
       "      <td>424</td>\n",
       "    </tr>\n",
       "    <tr>\n",
       "      <th>Sandwich Place</th>\n",
       "      <td>405</td>\n",
       "    </tr>\n",
       "    <tr>\n",
       "      <th>Mexican Restaurant</th>\n",
       "      <td>325</td>\n",
       "    </tr>\n",
       "    <tr>\n",
       "      <th>Café</th>\n",
       "      <td>310</td>\n",
       "    </tr>\n",
       "    <tr>\n",
       "      <th>American Restaurant</th>\n",
       "      <td>303</td>\n",
       "    </tr>\n",
       "    <tr>\n",
       "      <th>Fast Food Restaurant</th>\n",
       "      <td>269</td>\n",
       "    </tr>\n",
       "  </tbody>\n",
       "</table>\n",
       "</div>"
      ],
      "text/plain": [
       "                      Venue\n",
       "VCategory                  \n",
       "Pizza Place             992\n",
       "Coffee Shop             560\n",
       "Italian Restaurant      525\n",
       "Donut Shop              435\n",
       "Chinese Restaurant      424\n",
       "Sandwich Place          405\n",
       "Mexican Restaurant      325\n",
       "Café                    310\n",
       "American Restaurant     303\n",
       "Fast Food Restaurant    269"
      ]
     },
     "execution_count": 56,
     "metadata": {},
     "output_type": "execute_result"
    }
   ],
   "source": [
    "venues_food.groupby(['VCategory'])[['Venue']].count().sort_values(by='Venue',ascending=False).head(10)"
   ]
  },
  {
   "cell_type": "markdown",
   "metadata": {},
   "source": [
    "<a id='item3'></a>\n"
   ]
  },
  {
   "cell_type": "markdown",
   "metadata": {},
   "source": [
    "### Run _k_-means to cluster the restaurants into 5 clusters based on geo locations.\n"
   ]
  },
  {
   "cell_type": "code",
   "execution_count": 58,
   "metadata": {
    "ExecuteTime": {
     "end_time": "2021-04-01T02:57:55.122639Z",
     "start_time": "2021-04-01T02:57:55.061672Z"
    }
   },
   "outputs": [
    {
     "data": {
      "text/plain": [
       "array([[ 2.08077186,  1.00427218],\n",
       "       [ 2.03288151,  0.81625044],\n",
       "       [ 1.97758368,  0.95810427],\n",
       "       ...,\n",
       "       [-1.09928581, -1.49961091],\n",
       "       [-1.25667508, -1.59873387],\n",
       "       [-1.13414485, -1.42596361]])"
      ]
     },
     "execution_count": 58,
     "metadata": {},
     "output_type": "execute_result"
    }
   ],
   "source": [
    "X = venues_food[['VLatitude', 'VLongitude']]\n",
    "cluster_dataset = StandardScaler().fit_transform(X)\n",
    "cluster_dataset"
   ]
  },
  {
   "cell_type": "markdown",
   "metadata": {},
   "source": [
    "**Divide restaurants into 5 groups and get the labels and centers**\n"
   ]
  },
  {
   "cell_type": "code",
   "execution_count": 59,
   "metadata": {
    "ExecuteTime": {
     "end_time": "2021-04-01T02:58:09.332627Z",
     "start_time": "2021-04-01T02:58:09.286655Z"
    }
   },
   "outputs": [
    {
     "name": "stdout",
     "output_type": "stream",
     "text": [
      "[3 3 3 ... 2 2 2]\n"
     ]
    }
   ],
   "source": [
    "kclusters = 5\n",
    "\n",
    "k_means = KMeans(init=\"k-means++\", n_clusters=kclusters, n_init=12)\n",
    "k_means.fit(cluster_dataset)\n",
    "k_means_labels = k_means.labels_\n",
    "k_means_labels\n",
    "\n",
    "print(k_means_labels)"
   ]
  },
  {
   "cell_type": "code",
   "execution_count": 60,
   "metadata": {},
   "outputs": [],
   "source": [
    "venues_food.insert(0, 'ClusterLabels', k_means_labels + 1)"
   ]
  },
  {
   "cell_type": "markdown",
   "metadata": {},
   "source": [
    "### Explore the cluster results"
   ]
  },
  {
   "cell_type": "code",
   "execution_count": 61,
   "metadata": {
    "scrolled": true
   },
   "outputs": [
    {
     "data": {
      "text/html": [
       "<div>\n",
       "<style scoped>\n",
       "    .dataframe tbody tr th:only-of-type {\n",
       "        vertical-align: middle;\n",
       "    }\n",
       "\n",
       "    .dataframe tbody tr th {\n",
       "        vertical-align: top;\n",
       "    }\n",
       "\n",
       "    .dataframe thead th {\n",
       "        text-align: right;\n",
       "    }\n",
       "</style>\n",
       "<table border=\"1\" class=\"dataframe\">\n",
       "  <thead>\n",
       "    <tr style=\"text-align: right;\">\n",
       "      <th></th>\n",
       "      <th>ClusterLabels</th>\n",
       "      <th>Neighborhood</th>\n",
       "      <th>Latitude</th>\n",
       "      <th>Longitude</th>\n",
       "      <th>Venue</th>\n",
       "      <th>VLatitude</th>\n",
       "      <th>VLongitude</th>\n",
       "      <th>VCategory</th>\n",
       "    </tr>\n",
       "  </thead>\n",
       "  <tbody>\n",
       "    <tr>\n",
       "      <th>1</th>\n",
       "      <td>4</td>\n",
       "      <td>Bronx</td>\n",
       "      <td>40.894705</td>\n",
       "      <td>-73.847201</td>\n",
       "      <td>Ripe Kitchen &amp; Bar</td>\n",
       "      <td>40.898152</td>\n",
       "      <td>-73.838875</td>\n",
       "      <td>Caribbean Restaurant</td>\n",
       "    </tr>\n",
       "    <tr>\n",
       "      <th>2</th>\n",
       "      <td>4</td>\n",
       "      <td>Bronx</td>\n",
       "      <td>40.894705</td>\n",
       "      <td>-73.847201</td>\n",
       "      <td>Ali's Roti Shop</td>\n",
       "      <td>40.894036</td>\n",
       "      <td>-73.856935</td>\n",
       "      <td>Caribbean Restaurant</td>\n",
       "    </tr>\n",
       "    <tr>\n",
       "      <th>5</th>\n",
       "      <td>4</td>\n",
       "      <td>Bronx</td>\n",
       "      <td>40.894705</td>\n",
       "      <td>-73.847201</td>\n",
       "      <td>Jackie's West Indian Bakery</td>\n",
       "      <td>40.889283</td>\n",
       "      <td>-73.843310</td>\n",
       "      <td>Caribbean Restaurant</td>\n",
       "    </tr>\n",
       "    <tr>\n",
       "      <th>6</th>\n",
       "      <td>4</td>\n",
       "      <td>Bronx</td>\n",
       "      <td>40.894705</td>\n",
       "      <td>-73.847201</td>\n",
       "      <td>Jimbo's</td>\n",
       "      <td>40.891740</td>\n",
       "      <td>-73.858226</td>\n",
       "      <td>Burger Joint</td>\n",
       "    </tr>\n",
       "    <tr>\n",
       "      <th>9</th>\n",
       "      <td>4</td>\n",
       "      <td>Bronx</td>\n",
       "      <td>40.894705</td>\n",
       "      <td>-73.847201</td>\n",
       "      <td>Dunkin'</td>\n",
       "      <td>40.890459</td>\n",
       "      <td>-73.849089</td>\n",
       "      <td>Donut Shop</td>\n",
       "    </tr>\n",
       "  </tbody>\n",
       "</table>\n",
       "</div>"
      ],
      "text/plain": [
       "   ClusterLabels Neighborhood   Latitude  Longitude  \\\n",
       "1              4        Bronx  40.894705 -73.847201   \n",
       "2              4        Bronx  40.894705 -73.847201   \n",
       "5              4        Bronx  40.894705 -73.847201   \n",
       "6              4        Bronx  40.894705 -73.847201   \n",
       "9              4        Bronx  40.894705 -73.847201   \n",
       "\n",
       "                         Venue  VLatitude  VLongitude             VCategory  \n",
       "1           Ripe Kitchen & Bar  40.898152  -73.838875  Caribbean Restaurant  \n",
       "2              Ali's Roti Shop  40.894036  -73.856935  Caribbean Restaurant  \n",
       "5  Jackie's West Indian Bakery  40.889283  -73.843310  Caribbean Restaurant  \n",
       "6                      Jimbo's  40.891740  -73.858226          Burger Joint  \n",
       "9                      Dunkin'  40.890459  -73.849089            Donut Shop  "
      ]
     },
     "execution_count": 61,
     "metadata": {},
     "output_type": "execute_result"
    }
   ],
   "source": [
    "venues_food.head()"
   ]
  },
  {
   "cell_type": "markdown",
   "metadata": {},
   "source": [
    "**Check how many restaurants each group contains and its location** "
   ]
  },
  {
   "cell_type": "code",
   "execution_count": 62,
   "metadata": {},
   "outputs": [
    {
     "data": {
      "text/html": [
       "<div>\n",
       "<style scoped>\n",
       "    .dataframe tbody tr th:only-of-type {\n",
       "        vertical-align: middle;\n",
       "    }\n",
       "\n",
       "    .dataframe tbody tr th {\n",
       "        vertical-align: top;\n",
       "    }\n",
       "\n",
       "    .dataframe thead th {\n",
       "        text-align: right;\n",
       "    }\n",
       "</style>\n",
       "<table border=\"1\" class=\"dataframe\">\n",
       "  <thead>\n",
       "    <tr style=\"text-align: right;\">\n",
       "      <th></th>\n",
       "      <th></th>\n",
       "      <th>Venue</th>\n",
       "    </tr>\n",
       "    <tr>\n",
       "      <th>ClusterLabels</th>\n",
       "      <th>Neighborhood</th>\n",
       "      <th></th>\n",
       "    </tr>\n",
       "  </thead>\n",
       "  <tbody>\n",
       "    <tr>\n",
       "      <th rowspan=\"3\" valign=\"top\">1</th>\n",
       "      <th>Brooklyn</th>\n",
       "      <td>405</td>\n",
       "    </tr>\n",
       "    <tr>\n",
       "      <th>Manhattan</th>\n",
       "      <td>1487</td>\n",
       "    </tr>\n",
       "    <tr>\n",
       "      <th>Queens</th>\n",
       "      <td>672</td>\n",
       "    </tr>\n",
       "    <tr>\n",
       "      <th rowspan=\"2\" valign=\"top\">2</th>\n",
       "      <th>Brooklyn</th>\n",
       "      <td>57</td>\n",
       "    </tr>\n",
       "    <tr>\n",
       "      <th>Queens</th>\n",
       "      <td>1598</td>\n",
       "    </tr>\n",
       "    <tr>\n",
       "      <th>3</th>\n",
       "      <th>Staten Island</th>\n",
       "      <td>907</td>\n",
       "    </tr>\n",
       "    <tr>\n",
       "      <th rowspan=\"3\" valign=\"top\">4</th>\n",
       "      <th>Bronx</th>\n",
       "      <td>1308</td>\n",
       "    </tr>\n",
       "    <tr>\n",
       "      <th>Manhattan</th>\n",
       "      <td>233</td>\n",
       "    </tr>\n",
       "    <tr>\n",
       "      <th>Queens</th>\n",
       "      <td>1</td>\n",
       "    </tr>\n",
       "    <tr>\n",
       "      <th rowspan=\"2\" valign=\"top\">5</th>\n",
       "      <th>Brooklyn</th>\n",
       "      <td>1915</td>\n",
       "    </tr>\n",
       "    <tr>\n",
       "      <th>Queens</th>\n",
       "      <td>38</td>\n",
       "    </tr>\n",
       "  </tbody>\n",
       "</table>\n",
       "</div>"
      ],
      "text/plain": [
       "                             Venue\n",
       "ClusterLabels Neighborhood        \n",
       "1             Brooklyn         405\n",
       "              Manhattan       1487\n",
       "              Queens           672\n",
       "2             Brooklyn          57\n",
       "              Queens          1598\n",
       "3             Staten Island    907\n",
       "4             Bronx           1308\n",
       "              Manhattan        233\n",
       "              Queens             1\n",
       "5             Brooklyn        1915\n",
       "              Queens            38"
      ]
     },
     "execution_count": 62,
     "metadata": {},
     "output_type": "execute_result"
    }
   ],
   "source": [
    "venues_food.groupby(['ClusterLabels', 'Neighborhood'])[['Venue']].count()"
   ]
  },
  {
   "cell_type": "code",
   "execution_count": 63,
   "metadata": {},
   "outputs": [
    {
     "data": {
      "text/html": [
       "<div>\n",
       "<style scoped>\n",
       "    .dataframe tbody tr th:only-of-type {\n",
       "        vertical-align: middle;\n",
       "    }\n",
       "\n",
       "    .dataframe tbody tr th {\n",
       "        vertical-align: top;\n",
       "    }\n",
       "\n",
       "    .dataframe thead th {\n",
       "        text-align: right;\n",
       "    }\n",
       "</style>\n",
       "<table border=\"1\" class=\"dataframe\">\n",
       "  <thead>\n",
       "    <tr style=\"text-align: right;\">\n",
       "      <th></th>\n",
       "      <th>Venue</th>\n",
       "    </tr>\n",
       "    <tr>\n",
       "      <th>ClusterLabels</th>\n",
       "      <th></th>\n",
       "    </tr>\n",
       "  </thead>\n",
       "  <tbody>\n",
       "    <tr>\n",
       "      <th>1</th>\n",
       "      <td>2564</td>\n",
       "    </tr>\n",
       "    <tr>\n",
       "      <th>5</th>\n",
       "      <td>1953</td>\n",
       "    </tr>\n",
       "    <tr>\n",
       "      <th>2</th>\n",
       "      <td>1655</td>\n",
       "    </tr>\n",
       "    <tr>\n",
       "      <th>4</th>\n",
       "      <td>1542</td>\n",
       "    </tr>\n",
       "    <tr>\n",
       "      <th>3</th>\n",
       "      <td>907</td>\n",
       "    </tr>\n",
       "  </tbody>\n",
       "</table>\n",
       "</div>"
      ],
      "text/plain": [
       "               Venue\n",
       "ClusterLabels       \n",
       "1               2564\n",
       "5               1953\n",
       "2               1655\n",
       "4               1542\n",
       "3                907"
      ]
     },
     "execution_count": 63,
     "metadata": {},
     "output_type": "execute_result"
    }
   ],
   "source": [
    "venues_food.groupby('ClusterLabels')[['Venue']].count(\n",
    ").sort_values(by='Venue', ascending=False)"
   ]
  },
  {
   "cell_type": "markdown",
   "metadata": {},
   "source": [
    "We find the 5 clusters in these neighborhoods:  \n",
    "\n",
    "1. Cluster1 mainly consists of Brooklyn, Manhattan and Queens\n",
    "2. Cluster2 mainly consists of few Brooklyn and mainly Queens\n",
    "3. Cluster3 is Staten Island\n",
    "4. Cluster4 consist of Bronx and Manhattan\n",
    "5. Cluster5 mainly consists of Brooklyn and a few Queens"
   ]
  },
  {
   "cell_type": "markdown",
   "metadata": {},
   "source": [
    "### Examine each cluster\n"
   ]
  },
  {
   "cell_type": "markdown",
   "metadata": {},
   "source": [
    "**Find out the top 5 frequently occurring restaurants in each group**"
   ]
  },
  {
   "cell_type": "code",
   "execution_count": 66,
   "metadata": {},
   "outputs": [
    {
     "name": "stdout",
     "output_type": "stream",
     "text": [
      "                                   Numbers\n",
      "ClusterLabels VCategory                   \n",
      "1             Coffee Shop              262\n",
      "              Pizza Place              179\n",
      "              Italian Restaurant       178\n",
      "              Café                     139\n",
      "              American Restaurant      125\n",
      "                                  Numbers\n",
      "ClusterLabels VCategory                  \n",
      "2             Pizza Place             199\n",
      "              Chinese Restaurant      143\n",
      "              Donut Shop              112\n",
      "              Sandwich Place           88\n",
      "              Coffee Shop              72\n",
      "                                  Numbers\n",
      "ClusterLabels VCategory                  \n",
      "3             Pizza Place             119\n",
      "              Italian Restaurant      101\n",
      "              Bagel Shop               61\n",
      "              Donut Shop               59\n",
      "              Sandwich Place           58\n",
      "                                    Numbers\n",
      "ClusterLabels VCategory                    \n",
      "4             Pizza Place               253\n",
      "              Donut Shop                141\n",
      "              Sandwich Place            118\n",
      "              Fast Food Restaurant       94\n",
      "              Mexican Restaurant         90\n",
      "                                    Numbers\n",
      "ClusterLabels VCategory                    \n",
      "5             Pizza Place               242\n",
      "              Coffee Shop               123\n",
      "              Caribbean Restaurant      116\n",
      "              Italian Restaurant         96\n",
      "              Chinese Restaurant         90\n"
     ]
    }
   ],
   "source": [
    "venue_category = venues_food.groupby(['ClusterLabels', 'VCategory'])[\n",
    "    ['VCategory']].count()\n",
    "venue_category.columns = ['Numbers']\n",
    "for i in range(0, kclusters):\n",
    "    print(venue_category.loc[(i+1, slice(None)),\n",
    "          :].sort_values(by='Numbers', ascending=False).iloc[0:5, ])"
   ]
  },
  {
   "cell_type": "markdown",
   "metadata": {},
   "source": [
    "<a id='item5'></a>\n"
   ]
  },
  {
   "cell_type": "markdown",
   "metadata": {},
   "source": [
    "## Divide the Largest Group\n",
    "\n",
    "**We notice that the first group has the most restaurants within it. This means we need to deploy more drivers to pick up delivery there.**  \n",
    "**Based on the number of restaurants, we further divide group 1 in to 2 groups.**"
   ]
  },
  {
   "cell_type": "markdown",
   "metadata": {},
   "source": [
    "### Choose Cluster 1 for further exploration\n",
    "\n",
    "**Here we try 2,3,4 groups for division. We choose 4 as the optimal group division number**\n"
   ]
  },
  {
   "cell_type": "code",
   "execution_count": 70,
   "metadata": {},
   "outputs": [],
   "source": [
    "subgroup = venues_food.loc[venues_food['ClusterLabels'] == 1, ]\n",
    "X = subgroup[['VLatitude', 'VLongitude']]\n",
    "cluster_dataset = StandardScaler().fit_transform(X)\n",
    "cluster_dataset\n",
    "\n",
    "kclusters = 4\n",
    "\n",
    "k_means = KMeans(init=\"k-means++\", n_clusters=kclusters, n_init=12)\n",
    "k_means.fit(cluster_dataset)\n",
    "k_means_labels = k_means.labels_\n",
    "\n",
    "subgroup.insert(0, 'SubLabels', k_means_labels + 1)"
   ]
  },
  {
   "cell_type": "markdown",
   "metadata": {},
   "source": [
    "**Check out how many restaurants there are in each group**"
   ]
  },
  {
   "cell_type": "code",
   "execution_count": 71,
   "metadata": {},
   "outputs": [
    {
     "data": {
      "text/plain": [
       "SubLabels\n",
       "1    1059\n",
       "2     552\n",
       "3     376\n",
       "4     577\n",
       "Name: ClusterLabels, dtype: int64"
      ]
     },
     "execution_count": 71,
     "metadata": {},
     "output_type": "execute_result"
    }
   ],
   "source": [
    "subgroup.groupby('SubLabels')['ClusterLabels'].count()"
   ]
  },
  {
   "cell_type": "markdown",
   "metadata": {
    "ExecuteTime": {
     "end_time": "2021-04-02T01:00:29.470057Z",
     "start_time": "2021-04-02T01:00:29.460064Z"
    }
   },
   "source": [
    "# Results"
   ]
  },
  {
   "cell_type": "markdown",
   "metadata": {},
   "source": [
    "We choose the midpoint of the three most populated areas ** Brooklyn, Manhattan and Queens** to start our business.\n",
    "\n",
    "It is suggested that in this area Pizza Place has less presence than Coffee Shop. In a city where the other 4 clusters are topped by Pizza Place, there is huge potential if we start Pizza Place by assuming the demand is as strong. \n",
    "\n",
    "However, we must bear in mind that in Cluster 1, there are a great number of Italian Restaurant too. So we have to have make sure the Pizza is unique and attractive\n",
    "\n",
    "The 5 most frequently occuring restaurants in these three boroughs are:\n",
    "\n",
    "| Category | Numbers |\n",
    "|----------|---------|\n",
    "|Coffee Shop |\t262|\n",
    "|Pizza Place |\t179|\n",
    "|Italian Restaurant |\t178|\n",
    "|Cafe|\t139|\n",
    "|American Restaurant|\t125|\n",
    "\n",
    "These 5 clusters are in these neighborhoods:  \n",
    "\n",
    "|Cluster Label| Neighborhood|\n",
    "|----------|---------|\n",
    "|Cluster1 | Brooklyn, Manhattan & Queens|\n",
    "|Cluster2 | Brooklyn (minor) & Queens|\n",
    "|Cluster3 | Staten Island|\n",
    "|Cluster4 | Bronx & Manhattan|\n",
    "|Cluster5 | Brooklyn Queens (minor)|\t  "
   ]
  },
  {
   "cell_type": "markdown",
   "metadata": {},
   "source": [
    "# Discussion"
   ]
  },
  {
   "cell_type": "markdown",
   "metadata": {
    "ExecuteTime": {
     "end_time": "2021-04-02T03:33:27.551749Z",
     "start_time": "2021-04-02T03:33:27.298216Z"
    }
   },
   "source": [
    "After exploration of F&B shops in Manhattan region, we derive a 5 group division model to decide \n",
    "- What is generally popular in great Manhattan region?\n",
    "- Which cluster has opportunities for a new business to be started\n",
    "\n",
    "In order to better customize the food offered in our new F&B business, we could further collect information on nearby restaurants' pricing, demographic of the people, effect of holidays on the reigon.\n",
    "\n",
    "Next we can come up with selection plan for region with high flow, allowing us to get free advertisement. Once we start operating, we can leverage on customer data and have social media to help us promote ourselves to locals."
   ]
  },
  {
   "cell_type": "markdown",
   "metadata": {},
   "source": [
    "# Conclusion"
   ]
  },
  {
   "cell_type": "markdown",
   "metadata": {},
   "source": [
    "This reports gathers information about restaurants in Manhattan major boroughs. Widely regarded as one of the most diverse cities in the world, Manhattan’s culinary scene offers multicultural cuisine. It shows that **starting a Pizza shop will be easily accepted**.\n",
    "\n",
    "**Brooklyn, Manhattan & Queens** are the most dense areas in New York and has a large amount of various restaurants and diners suitable for starting a F&B business. We recommend starting to look for a suitable venue from the heart of **Cluster 1** and slowly move out the radius, factoring in start-up cost and maintaining cost."
   ]
  },
  {
   "cell_type": "markdown",
   "metadata": {},
   "source": [
    "# Reference"
   ]
  },
  {
   "cell_type": "markdown",
   "metadata": {},
   "source": [
    "1. [Four Square API](https://foursquare.com/)"
   ]
  }
 ],
 "metadata": {
  "kernelspec": {
   "display_name": "Python 3",
   "language": "python",
   "name": "python3"
  },
  "language_info": {
   "codemirror_mode": {
    "name": "ipython",
    "version": 3
   },
   "file_extension": ".py",
   "mimetype": "text/x-python",
   "name": "python",
   "nbconvert_exporter": "python",
   "pygments_lexer": "ipython3",
   "version": "3.7.1"
  },
  "toc": {
   "base_numbering": 1,
   "nav_menu": {},
   "number_sections": true,
   "sideBar": true,
   "skip_h1_title": false,
   "title_cell": "Table of Contents",
   "title_sidebar": "Contents",
   "toc_cell": false,
   "toc_position": {
    "height": "calc(100% - 180px)",
    "left": "10px",
    "top": "150px",
    "width": "294.55px"
   },
   "toc_section_display": true,
   "toc_window_display": true
  },
  "varInspector": {
   "cols": {
    "lenName": 16,
    "lenType": 16,
    "lenVar": 40
   },
   "kernels_config": {
    "python": {
     "delete_cmd_postfix": "",
     "delete_cmd_prefix": "del ",
     "library": "var_list.py",
     "varRefreshCmd": "print(var_dic_list())"
    },
    "r": {
     "delete_cmd_postfix": ") ",
     "delete_cmd_prefix": "rm(",
     "library": "var_list.r",
     "varRefreshCmd": "cat(var_dic_list()) "
    }
   },
   "types_to_exclude": [
    "module",
    "function",
    "builtin_function_or_method",
    "instance",
    "_Feature"
   ],
   "window_display": false
  },
  "widgets": {
   "state": {},
   "version": "1.1.2"
  }
 },
 "nbformat": 4,
 "nbformat_minor": 2
}
